{
  "nbformat": 4,
  "nbformat_minor": 0,
  "metadata": {
    "colab": {
      "provenance": [],
      "authorship_tag": "ABX9TyMRZE24NraLaFxENrTlVerA",
      "include_colab_link": true
    },
    "kernelspec": {
      "name": "python3",
      "display_name": "Python 3"
    },
    "language_info": {
      "name": "python"
    }
  },
  "cells": [
    {
      "cell_type": "markdown",
      "metadata": {
        "id": "view-in-github",
        "colab_type": "text"
      },
      "source": [
        "<a href=\"https://colab.research.google.com/github/BenjaminFlynn/Tech_Inventory_Analysis/blob/main/inventory_etl.ipynb\" target=\"_parent\"><img src=\"https://colab.research.google.com/assets/colab-badge.svg\" alt=\"Open In Colab\"/></a>"
      ]
    },
    {
      "cell_type": "markdown",
      "source": [
        "# **IMPORT PIPS**"
      ],
      "metadata": {
        "id": "M33D7V09cuu7"
      }
    },
    {
      "cell_type": "code",
      "source": [
        "pip install snowflake-connector-python"
      ],
      "metadata": {
        "collapsed": true,
        "id": "wgqA2dH9cuau",
        "colab": {
          "base_uri": "https://localhost:8080/"
        },
        "outputId": "daded076-7ccd-44f6-ebb2-355527300f0b"
      },
      "execution_count": 66,
      "outputs": [
        {
          "output_type": "stream",
          "name": "stdout",
          "text": [
            "Requirement already satisfied: snowflake-connector-python in /usr/local/lib/python3.11/dist-packages (3.15.0)\n",
            "Requirement already satisfied: asn1crypto<2.0.0,>0.24.0 in /usr/local/lib/python3.11/dist-packages (from snowflake-connector-python) (1.5.1)\n",
            "Requirement already satisfied: boto3>=1.24 in /usr/local/lib/python3.11/dist-packages (from snowflake-connector-python) (1.38.10)\n",
            "Requirement already satisfied: botocore>=1.24 in /usr/local/lib/python3.11/dist-packages (from snowflake-connector-python) (1.38.10)\n",
            "Requirement already satisfied: cffi<2.0.0,>=1.9 in /usr/local/lib/python3.11/dist-packages (from snowflake-connector-python) (1.17.1)\n",
            "Requirement already satisfied: cryptography>=3.1.0 in /usr/local/lib/python3.11/dist-packages (from snowflake-connector-python) (43.0.3)\n",
            "Requirement already satisfied: pyOpenSSL<26.0.0,>=22.0.0 in /usr/local/lib/python3.11/dist-packages (from snowflake-connector-python) (24.2.1)\n",
            "Requirement already satisfied: pyjwt<3.0.0 in /usr/local/lib/python3.11/dist-packages (from snowflake-connector-python) (2.10.1)\n",
            "Requirement already satisfied: pytz in /usr/local/lib/python3.11/dist-packages (from snowflake-connector-python) (2025.2)\n",
            "Requirement already satisfied: requests<3.0.0 in /usr/local/lib/python3.11/dist-packages (from snowflake-connector-python) (2.32.3)\n",
            "Requirement already satisfied: packaging in /usr/local/lib/python3.11/dist-packages (from snowflake-connector-python) (24.2)\n",
            "Requirement already satisfied: charset_normalizer<4,>=2 in /usr/local/lib/python3.11/dist-packages (from snowflake-connector-python) (3.4.1)\n",
            "Requirement already satisfied: idna<4,>=2.5 in /usr/local/lib/python3.11/dist-packages (from snowflake-connector-python) (3.10)\n",
            "Requirement already satisfied: certifi>=2017.4.17 in /usr/local/lib/python3.11/dist-packages (from snowflake-connector-python) (2025.4.26)\n",
            "Requirement already satisfied: typing_extensions<5,>=4.3 in /usr/local/lib/python3.11/dist-packages (from snowflake-connector-python) (4.13.2)\n",
            "Requirement already satisfied: filelock<4,>=3.5 in /usr/local/lib/python3.11/dist-packages (from snowflake-connector-python) (3.18.0)\n",
            "Requirement already satisfied: sortedcontainers>=2.4.0 in /usr/local/lib/python3.11/dist-packages (from snowflake-connector-python) (2.4.0)\n",
            "Requirement already satisfied: platformdirs<5.0.0,>=2.6.0 in /usr/local/lib/python3.11/dist-packages (from snowflake-connector-python) (4.3.7)\n",
            "Requirement already satisfied: tomlkit in /usr/local/lib/python3.11/dist-packages (from snowflake-connector-python) (0.13.2)\n",
            "Requirement already satisfied: jmespath<2.0.0,>=0.7.1 in /usr/local/lib/python3.11/dist-packages (from boto3>=1.24->snowflake-connector-python) (1.0.1)\n",
            "Requirement already satisfied: s3transfer<0.13.0,>=0.12.0 in /usr/local/lib/python3.11/dist-packages (from boto3>=1.24->snowflake-connector-python) (0.12.0)\n",
            "Requirement already satisfied: python-dateutil<3.0.0,>=2.1 in /usr/local/lib/python3.11/dist-packages (from botocore>=1.24->snowflake-connector-python) (2.9.0.post0)\n",
            "Requirement already satisfied: urllib3!=2.2.0,<3,>=1.25.4 in /usr/local/lib/python3.11/dist-packages (from botocore>=1.24->snowflake-connector-python) (2.4.0)\n",
            "Requirement already satisfied: pycparser in /usr/local/lib/python3.11/dist-packages (from cffi<2.0.0,>=1.9->snowflake-connector-python) (2.22)\n",
            "Requirement already satisfied: six>=1.5 in /usr/local/lib/python3.11/dist-packages (from python-dateutil<3.0.0,>=2.1->botocore>=1.24->snowflake-connector-python) (1.17.0)\n"
          ]
        }
      ]
    },
    {
      "cell_type": "markdown",
      "source": [
        "# **IMPORT DEPENDENCIES**"
      ],
      "metadata": {
        "id": "FiOeoaPr5AdQ"
      }
    },
    {
      "cell_type": "code",
      "source": [
        "import requests\n",
        "import pandas as pd\n",
        "from google.colab import drive\n",
        "import json\n",
        "import snowflake.connector\n",
        "from snowflake.connector.pandas_tools import write_pandas"
      ],
      "metadata": {
        "id": "RwwWse9x5ALQ"
      },
      "execution_count": 67,
      "outputs": []
    },
    {
      "cell_type": "markdown",
      "source": [
        "# **EXTRACT DATA**"
      ],
      "metadata": {
        "id": "QoFIzBo84lUk"
      }
    },
    {
      "cell_type": "code",
      "execution_count": 68,
      "metadata": {
        "id": "OFxe3zsM4eFO"
      },
      "outputs": [],
      "source": [
        "def extract_data():\n",
        "  drive.mount('/content/drive')\n",
        "  df = pd.read_csv('/content/drive/MyDrive/Colab Notebooks/Invo_jan2025_1.csv')\n",
        "  return df"
      ]
    },
    {
      "cell_type": "markdown",
      "source": [
        "# **Transform Data**"
      ],
      "metadata": {
        "id": "A5VZ5Iwo6Nfm"
      }
    },
    {
      "cell_type": "code",
      "source": [
        "def transform_data(df):\n",
        "  df.columns = df.columns.str.lower()\n",
        "  df.columns = df.columns.str.replace(' ', '_')\n",
        "  df['os_version'] = df['os_version'].apply(lambda x: str(x).split('.')[0])\n",
        "  return df[['barcode', 'model','status','date_acquired','os_version']]"
      ],
      "metadata": {
        "id": "v6wVzXm66YM5"
      },
      "execution_count": 84,
      "outputs": []
    },
    {
      "cell_type": "markdown",
      "source": [
        "# **Load Data - Snowflake Warehouse**"
      ],
      "metadata": {
        "id": "Q9QHvpsB9oKk"
      }
    },
    {
      "cell_type": "code",
      "source": [
        "def load_data(dataframe, connection):\n",
        "  write_pandas(conn = connection, df = dataframe, table_name=\"Inventory_04\", auto_create_table = True, overwrite=True)\n",
        "  return"
      ],
      "metadata": {
        "id": "xs2oJpfU9yVS"
      },
      "execution_count": 70,
      "outputs": []
    },
    {
      "cell_type": "code",
      "source": [
        "if __name__ == '__main__':\n",
        "  conn = snowflake.connector.connect(\n",
        "  user=\"FLYNNBEN123\",\n",
        "  password='Sipdove8Password',\n",
        "  account='PQYWFGB-JY21480',\n",
        "  warehouse=\"COMPUTE_WH\",\n",
        "  database=\"tech_inventory\",\n",
        "  schema=\"PUBLIC\")\n",
        "  raw_data = extract_data()\n",
        "  transformed_data = transform_data(raw_data)\n",
        "  load_data(transformed_data, conn)"
      ],
      "metadata": {
        "colab": {
          "base_uri": "https://localhost:8080/"
        },
        "id": "Tsarsz2M6uGc",
        "outputId": "43eb13ce-b8b6-4be4-96bd-0a73178f1b9f",
        "collapsed": true
      },
      "execution_count": 85,
      "outputs": [
        {
          "output_type": "stream",
          "name": "stdout",
          "text": [
            "Drive already mounted at /content/drive; to attempt to forcibly remount, call drive.mount(\"/content/drive\", force_remount=True).\n"
          ]
        }
      ]
    }
  ]
}